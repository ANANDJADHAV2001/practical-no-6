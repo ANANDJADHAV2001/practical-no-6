{
  "nbformat": 4,
  "nbformat_minor": 0,
  "metadata": {
    "colab": {
      "name": "practical6.ipynb",
      "provenance": []
    },
    "kernelspec": {
      "name": "python3",
      "display_name": "Python 3"
    },
    "language_info": {
      "name": "python"
    }
  },
  "cells": [
    {
      "cell_type": "markdown",
      "source": [
        "write a program to demonstrate working with tuples in python. "
      ],
      "metadata": {
        "id": "p_TIZNLOTPTP"
      }
    },
    {
      "cell_type": "code",
      "source": [
        "T = (\"apple\", \"banana\", \"cherry\",\"mango\",\"grape\",\"orange\")\n",
        "print(\"\\n Created tuple is :\",T)\n",
        "print(\"\\n Second fruit is :\",T[1])\n",
        "print(\"\\n From 3-6 fruits are :\",T[3:6])\n",
        "print(\"\\n List of all items in Tuple :\")\n",
        "for x in T:\n",
        "  print(x)\n",
        "if \"apple\" in T:\n",
        "  print(\"\\n Yes, 'apple' is in the fruits tuple\")\n",
        "print(\"\\n Length of Tuple is :\",len(T))\n"
      ],
      "metadata": {
        "colab": {
          "base_uri": "https://localhost:8080/"
        },
        "id": "QHxX-wmljj4p",
        "outputId": "851ecaa8-e06a-42ab-8288-49d4f0d316e8"
      },
      "execution_count": 20,
      "outputs": [
        {
          "output_type": "stream",
          "name": "stdout",
          "text": [
            "\n",
            " Created tuple is : ('apple', 'banana', 'cherry', 'mango', 'grape', 'orange')\n",
            "\n",
            " Second fruit is : banana\n",
            "\n",
            " From 3-6 fruits are : ('mango', 'grape', 'orange')\n",
            "\n",
            " List of all items in Tuple :\n",
            "apple\n",
            "banana\n",
            "cherry\n",
            "mango\n",
            "grape\n",
            "orange\n",
            "\n",
            " Yes, 'apple' is in the fruits tuple\n",
            "\n",
            " Length of Tuple is : 6\n"
          ]
        }
      ]
    }
  ]
}